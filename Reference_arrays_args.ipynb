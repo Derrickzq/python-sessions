{
 "cells": [
  {
   "cell_type": "markdown",
   "metadata": {},
   "source": [
    "# Arrays and references\n",
    "\n",
    "Author: Pierre Ablin, Mathurin Massias\n",
    "\n",
    "Some caveats when using numpy arrays."
   ]
  },
  {
   "cell_type": "code",
   "execution_count": 1,
   "metadata": {},
   "outputs": [],
   "source": [
    "import numpy as np"
   ]
  },
  {
   "cell_type": "code",
   "execution_count": 2,
   "metadata": {},
   "outputs": [
    {
     "name": "stdout",
     "output_type": "stream",
     "text": [
      "[0. 0. 0. 0.]\n"
     ]
    }
   ],
   "source": [
    "a = np.zeros(4)\n",
    "print(a)"
   ]
  },
  {
   "cell_type": "code",
   "execution_count": 3,
   "metadata": {},
   "outputs": [
    {
     "name": "stdout",
     "output_type": "stream",
     "text": [
      "[0. 0. 0. 0.]\n",
      "[12.  0.  0.  0.]\n"
     ]
    }
   ],
   "source": [
    "# argument x is passed as reference (amongst others, this avoids a heavy memory copy if x is large):\n",
    "def f(x):\n",
    "    x[0] = 12\n",
    "    \n",
    "\n",
    "print(a)\n",
    "f(a)\n",
    "print(a)\n",
    "# modifying x inside the function also changes it outside"
   ]
  },
  {
   "cell_type": "code",
   "execution_count": 4,
   "metadata": {},
   "outputs": [
    {
     "name": "stdout",
     "output_type": "stream",
     "text": [
      "[12.  0.  0.  0.]\n",
      "[12.  0.  0.  0.]\n"
     ]
    }
   ],
   "source": [
    "# if we want to avoid side effects, we need to copy the argument when entering the function:\n",
    "def g(x):\n",
    "    x = x.copy()\n",
    "    x[0] = 24\n",
    "\n",
    "print(a)\n",
    "f(a)\n",
    "print(a)\n",
    "# a is no longer affected"
   ]
  },
  {
   "cell_type": "code",
   "execution_count": 5,
   "metadata": {},
   "outputs": [
    {
     "name": "stdout",
     "output_type": "stream",
     "text": [
      "[12.  0.  0.  0.]\n",
      "[12.  0.  0.  0.]\n"
     ]
    }
   ],
   "source": [
    "# what happens if we do this?\n",
    "def h(x):\n",
    "    x = x + 6\n",
    "\n",
    "print(a)\n",
    "h(a)\n",
    "print(a)\n",
    "# a is untouched: x = x + 6 means \"compute x + 6, and put this in a new variable called x\""
   ]
  },
  {
   "cell_type": "code",
   "execution_count": 16,
   "metadata": {},
   "outputs": [
    {
     "name": "stdout",
     "output_type": "stream",
     "text": [
      "[10.  5.  5.  5.  5.  5.]\n",
      "[16. 11. 11. 11. 11. 11.]\n"
     ]
    }
   ],
   "source": [
    "# but this will modify a:\n",
    "def h_view(x):\n",
    "    x[:] = x + 6\n",
    "\n",
    "print(a)\n",
    "h_view(a)\n",
    "print(a)\n",
    "# x[:] = x + 6  means compute x + 6, and fill x with the result. \n",
    "# It is useful because we don't have to create a new array at each iteration, we just use the same."
   ]
  },
  {
   "cell_type": "markdown",
   "metadata": {},
   "source": [
    "`x[:]` is what we call a _view_ on `x`: it is a different array (`a[:] is a` evaluates to False), but it points to the same data, with a potentially different way to move from one line/column to another. Views are useful because they allow to avoid a high memory usage. Let's see other examples of _views_:"
   ]
  },
  {
   "cell_type": "code",
   "execution_count": 7,
   "metadata": {},
   "outputs": [
    {
     "data": {
      "text/plain": [
       "False"
      ]
     },
     "execution_count": 7,
     "metadata": {},
     "output_type": "execute_result"
    }
   ],
   "source": [
    "a[:] is a"
   ]
  },
  {
   "cell_type": "code",
   "execution_count": 8,
   "metadata": {},
   "outputs": [
    {
     "name": "stdout",
     "output_type": "stream",
     "text": [
      "[[0. 1. 1.]\n",
      " [0. 1. 1.]\n",
      " [0. 1. 1.]\n",
      " [0. 1. 1.]\n",
      " [0. 1. 1.]]\n"
     ]
    }
   ],
   "source": [
    "A = np.ones([5, 3])\n",
    "B = A.T  # B is not A, but B shares A's data\n",
    "B[0, :] = 0  # change the first line of B\n",
    "print(A)  # the first column of A has changed"
   ]
  },
  {
   "cell_type": "markdown",
   "metadata": {},
   "source": [
    "This is useful for example when we compute the linear regression gradient `A.T.dot(A.dot(x) - b)`: numpy does not create a new array to store `A.T`. \n",
    "Other views:"
   ]
  },
  {
   "cell_type": "code",
   "execution_count": 9,
   "metadata": {},
   "outputs": [
    {
     "name": "stdout",
     "output_type": "stream",
     "text": [
      "[[0. 0. 0.]\n",
      " [1. 1. 1.]\n",
      " [1. 1. 1.]\n",
      " [1. 1. 1.]\n",
      " [1. 1. 1.]]\n"
     ]
    }
   ],
   "source": [
    "A = np.ones([5, 3])\n",
    "B = A[::2, :]  # B = even lines of A, with a view\n",
    "B[0, :] = 0\n",
    "print(A)  # A has changed!"
   ]
  },
  {
   "cell_type": "code",
   "execution_count": 10,
   "metadata": {},
   "outputs": [
    {
     "name": "stdout",
     "output_type": "stream",
     "text": [
      "[[1. 1. 1.]\n",
      " [1. 1. 1.]\n",
      " [1. 1. 1.]\n",
      " [1. 1. 1.]\n",
      " [1. 1. 1.]]\n"
     ]
    }
   ],
   "source": [
    "A = np.ones([5, 3])\n",
    "B = A[[0, 2, 4], :]  # B = even lines of A, without using a view\n",
    "B[0, :] = 2\n",
    "print(A)  # A has not changed"
   ]
  },
  {
   "cell_type": "code",
   "execution_count": 11,
   "metadata": {},
   "outputs": [
    {
     "name": "stdout",
     "output_type": "stream",
     "text": [
      "140253321109632\n",
      "140253320980800\n",
      "False\n"
     ]
    }
   ],
   "source": [
    "# A little more on the previous ideas, without functions:\n",
    "a = np.zeros(6)\n",
    "b = np.zeros(6)\n",
    "print(id(a))  # address in memory of a\n",
    "print(id(b))  # this address is different, a and b are not the same object\n",
    "print(a is b)  # 'is' test if the two variables point to the same object\n",
    "# the addresses are different, it's not the same object"
   ]
  },
  {
   "cell_type": "code",
   "execution_count": 12,
   "metadata": {},
   "outputs": [
    {
     "name": "stdout",
     "output_type": "stream",
     "text": [
      "True\n",
      "[5. 0. 0. 0. 0. 0.]\n",
      "[5. 0. 0. 0. 0. 0.]\n"
     ]
    }
   ],
   "source": [
    "b = a\n",
    "print(a is b)  # True\n",
    "b[0] = 5\n",
    "print(b)\n",
    "print(a)\n",
    "# a and b point to the same object, so modifying b affects a:"
   ]
  },
  {
   "cell_type": "code",
   "execution_count": 13,
   "metadata": {},
   "outputs": [
    {
     "name": "stdout",
     "output_type": "stream",
     "text": [
      "[5. 0. 0. 0. 0. 0.]\n",
      "[10.  5.  5.  5.  5.  5.]\n"
     ]
    }
   ],
   "source": [
    "b = b + 5  # b + 5 is computed and affected to a new variable called b (old b is deleted)\n",
    "print(a)\n",
    "print(b)\n",
    "# b is modified but a is not:"
   ]
  },
  {
   "cell_type": "code",
   "execution_count": 14,
   "metadata": {},
   "outputs": [
    {
     "name": "stdout",
     "output_type": "stream",
     "text": [
      "[10.  5.  5.  5.  5.  5.]\n",
      "[10.  5.  5.  5.  5.  5.]\n"
     ]
    }
   ],
   "source": [
    "b = a\n",
    "b[:] = b + 5\n",
    "print(a)\n",
    "print(b)\n",
    "# b is modified and so is a:"
   ]
  },
  {
   "cell_type": "code",
   "execution_count": 15,
   "metadata": {},
   "outputs": [],
   "source": [
    "# This can be tricky in SAG code. The following code does not do what you think it does:\n",
    "n, p = 10, 100\n",
    "def grad_i(i, x): \n",
    "    return np.random.randn(p)\n",
    "\n",
    "memory_gradient = np.zeros([n, p])\n",
    "\n",
    "x = np.zeros(p)\n",
    "for idx in range(50):\n",
    "    i = idx % n\n",
    "    old_g_i = memory_gradient[i, :]  # /!\\ old_g_i just points to memory_gradient[i, :]\n",
    "    # so changing memory_gradient[i, :] will change old_g_i!\n",
    "    new_g_i = grad_i(i, x)\n",
    "    memory_gradient[i, :] = new_g_i  # this also affect old_g_i as a side effect\n",
    "    # old_g_i and new_g_i now have the same values!\n",
    "    # so the mean of memory gradient would never change and the algorithm fails\n",
    "    assert (new_g_i == old_g_i).all()  # this is True, not what you expect.\n",
    "    \n",
    "    # other stuff of the algorithm\n",
    "    # x -= step * ...\n",
    "    "
   ]
  },
  {
   "cell_type": "code",
   "execution_count": null,
   "metadata": {},
   "outputs": [],
   "source": []
  }
 ],
 "metadata": {
  "anaconda-cloud": {},
  "kernelspec": {
   "display_name": "Python [conda env:anaconda3]",
   "language": "python",
   "name": "conda-env-anaconda3-py"
  },
  "language_info": {
   "codemirror_mode": {
    "name": "ipython",
    "version": 3
   },
   "file_extension": ".py",
   "mimetype": "text/x-python",
   "name": "python",
   "nbconvert_exporter": "python",
   "pygments_lexer": "ipython3",
   "version": "3.6.6"
  }
 },
 "nbformat": 4,
 "nbformat_minor": 2
}

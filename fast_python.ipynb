{
 "cells": [
  {
   "cell_type": "markdown",
   "metadata": {},
   "source": [
    "# Fast scientific code with Python"
   ]
  },
  {
   "cell_type": "markdown",
   "metadata": {},
   "source": [
    "\n",
    "Author: [Pierre Ablin](https://www.pierreablin.com). \n",
    "\n",
    "\n",
    "Based on an idea by [Alexandre Gramfort](http://alexandre.gramfort.net/).\n",
    "\n"
   ]
  },
  {
   "cell_type": "markdown",
   "metadata": {},
   "source": [
    "\n",
    "\n",
    "**Dependencies:**\n",
    "\n",
    "For this notebook, we will need numba, cython, and memory_profiler. numba evolves quickly, so the most recent version is the best. To install all those:\n",
    "\n",
    "` $ pip install ...`\n",
    "\n",
    "\n",
    "\n",
    "To get the latest versions, running anaconda:\n",
    "\n",
    "` $ conda update ...`\n",
    "\n",
    "\n",
    "\n",
    "\n",
    "\n",
    "Python is the go to langage when it comes to quickly translate an idea into code. It is very easy to write and read. The drawback is that most natural operations come with a lot of tests, conversion, etc... which renders scientific coding with the standard python library extremely slow. Luckily, there are a lot of tools and libraries to make Python code almost a fast as native fortran/C in most cases.\n",
    "\n",
    "### Is Python truly slow? \n",
    "Not if well optimized. Take the `scikit-learn` library, which contains many machine learning algorithm. It is written in Python, yet it contains the fastest implementation available of several massively used algorithms.\n",
    "\n",
    "As a side note: a great way to produce a scientific code in Python is first to write a working algorithm that might be slow. The important part is that it works. Then, profile it (i.e. time each of its component, or check the memory load if thats a problem too) to see which part can be improved and which part does not really have to be changed. It sounds obvious, but it is almost always useless to try to optimize a function that only makes for 5% of the total timing of the algorithm.\n",
    "\n",
    "\n",
    "With that in mind, parts of the algorithms that are not critical can be left in beautiful and clean python code while the rest has to be optimized.\n",
    "\n"
   ]
  },
  {
   "cell_type": "markdown",
   "metadata": {},
   "source": [
    "### Test Case\n",
    "Let us try to solve a simple problem. Condider the Wallis product $P_n = 2 \\prod_{i=1}^{n}\\frac{4i^2}{4i^2 - 1}$ which converges to $\\pi$. We are going to try to make its computation as fast as possible for large $n$.\n",
    "\n",
    "A very naive approach is the following:"
   ]
  },
  {
   "cell_type": "code",
   "execution_count": 31,
   "metadata": {
    "ExecuteTime": {
     "end_time": "2017-09-11T13:56:07.870147Z",
     "start_time": "2017-09-11T13:56:07.840070Z"
    }
   },
   "outputs": [
    {
     "data": {
      "text/plain": [
       "3.1415141108281714"
      ]
     },
     "execution_count": 31,
     "metadata": {},
     "output_type": "execute_result"
    }
   ],
   "source": [
    "def wallis1(n):\n",
    "    out = 2.\n",
    "    for i in range(1, n):\n",
    "        out *= float((4 * i ** 2)) / float((4 * i ** 2 - 1))\n",
    "    return out\n",
    "\n",
    "wallis1(10000)"
   ]
  },
  {
   "cell_type": "markdown",
   "metadata": {},
   "source": [
    "## Vectorize\n",
    "The previous method is slow, because of the loop. The operations carried inside the loop are extremely slow and repeated many times.\n",
    "The most natural way to overcome this problem in python is to vectorize using numpy."
   ]
  },
  {
   "cell_type": "code",
   "execution_count": 34,
   "metadata": {
    "ExecuteTime": {
     "end_time": "2017-09-11T13:57:48.250758Z",
     "start_time": "2017-09-11T13:57:34.295403Z"
    }
   },
   "outputs": [
    {
     "name": "stdout",
     "output_type": "stream",
     "text": [
      "8.54 ms ± 378 µs per loop (mean ± std. dev. of 7 runs, 100 loops each)\n",
      "87 µs ± 2.58 µs per loop (mean ± std. dev. of 7 runs, 10000 loops each)\n"
     ]
    }
   ],
   "source": [
    "import numpy as np\n",
    "\n",
    "def wallis2(n):\n",
    "    int_list = np.arange(1, n)\n",
    "    return 2 * np.prod( 4 * int_list ** 2 / (4 * int_list ** 2 - 1.))\n",
    "\n",
    "\n",
    "%timeit wallis1(10000) #raw loop\n",
    "%timeit wallis2(10000) #Vectorized with Numpy"
   ]
  },
  {
   "cell_type": "markdown",
   "metadata": {},
   "source": [
    "We can see that this code is orders of magnitude faster than the previous one. Vectorizing is extremely important in scientific computing as vectors/matrices/tensors are by far the most common data structure encountered. Consequently, some very efficient libraries exist to work with vectors. This explains why numpy is at the core of scientific computing."
   ]
  },
  {
   "cell_type": "markdown",
   "metadata": {},
   "source": [
    "Now, we can make this code faster by avoiding useless computations. Indeed, the product `4 * int_list ** 2` only has to be computed once."
   ]
  },
  {
   "cell_type": "code",
   "execution_count": 35,
   "metadata": {
    "ExecuteTime": {
     "end_time": "2017-09-11T13:58:34.070326Z",
     "start_time": "2017-09-11T13:58:21.358080Z"
    }
   },
   "outputs": [
    {
     "name": "stdout",
     "output_type": "stream",
     "text": [
      "84.5 µs ± 2.62 µs per loop (mean ± std. dev. of 7 runs, 10000 loops each)\n",
      "71.2 µs ± 391 ns per loop (mean ± std. dev. of 7 runs, 10000 loops each)\n"
     ]
    }
   ],
   "source": [
    "def wallis3(n):\n",
    "    tmp = 4 * np.arange(1, n) ** 2\n",
    "    return 2 * np.prod( tmp / (tmp - 1.))\n",
    "\n",
    "%timeit wallis2(10000) #simply Vectorized with Numpy\n",
    "%timeit wallis3(10000) #Vectorized with Numpy"
   ]
  },
  {
   "cell_type": "markdown",
   "metadata": {},
   "source": [
    "Another gain factor comes from the useless memory copies performed in the above call. Once `int_list` is computed, there is no need to keep it in memory. Further, when doing `tmp = 4 * int_list ** 2`, numpy takes int_list, creates an intermediate copy, then squares it. Then it takes that copy, and multiplies it by 4. These copies are unecessary. The way to efficiently manage memory and avoid unecessary copies is to use `+=`, `-=`, etc... You should also avoid as much as possible type conversion."
   ]
  },
  {
   "cell_type": "code",
   "execution_count": 37,
   "metadata": {
    "ExecuteTime": {
     "end_time": "2017-09-11T14:00:07.011040Z",
     "start_time": "2017-09-11T13:59:54.335413Z"
    }
   },
   "outputs": [
    {
     "name": "stdout",
     "output_type": "stream",
     "text": [
      "80.1 µs ± 3.16 µs per loop (mean ± std. dev. of 7 runs, 10000 loops each)\n",
      "77.1 µs ± 3.03 µs per loop (mean ± std. dev. of 7 runs, 10000 loops each)\n"
     ]
    }
   ],
   "source": [
    "def wallis4(n):\n",
    "    tmp = np.arange(1, n, dtype=float) #use float instead of integer\n",
    "    tmp *= tmp  # Legend has it that it is the fastest way to square\n",
    "    tmp *= 4.\n",
    "    tmp /= tmp - 1.\n",
    "    return 2. * np.prod(tmp)\n",
    "\n",
    "%timeit wallis3(10000) #Better Vectorized with Numpy\n",
    "%timeit wallis4(10000) #Best Vectorized with Numpy"
   ]
  },
  {
   "cell_type": "markdown",
   "metadata": {},
   "source": [
    "We have gained a little bit (a factor two compared to the naive numpy version). "
   ]
  },
  {
   "cell_type": "markdown",
   "metadata": {},
   "source": [
    "## Cython\n",
    "\n",
    "Now, it is not always the case that operations can be vectorized as easily. Sometimes you just cannot avoid the loops. We can use Cython to write code that is going to be compiled in C.\n",
    "\n",
    "#### Instalation :\n",
    "```\n",
    "pip install cython\n",
    "```\n",
    "\n",
    "Without conda, add :\n",
    "```bash\n",
    "sudo apt install python-dev python3-dev```"
   ]
  },
  {
   "cell_type": "code",
   "execution_count": 27,
   "metadata": {
    "ExecuteTime": {
     "end_time": "2017-09-11T13:41:41.331312Z",
     "start_time": "2017-09-11T13:41:41.327463Z"
    }
   },
   "outputs": [
    {
     "name": "stdout",
     "output_type": "stream",
     "text": [
      "The cython extension is already loaded. To reload it, use:\n",
      "  %reload_ext cython\n"
     ]
    }
   ],
   "source": [
    "%load_ext cython \n",
    "#Load Cython on jupyter to use it with %%magic"
   ]
  },
  {
   "cell_type": "markdown",
   "metadata": {},
   "source": [
    "In cython, you have to type and define each variable that you are going to use beforehand, which is going to render our code a bit less readable. If cython does not understand an instruction, it will fall back to a python instruction, which might render everything incredibly slow. To debug, you can use the command --annotate which will hilight the lines which interact wit python (yellow inside of a loop means slow)."
   ]
  },
  {
   "cell_type": "code",
   "execution_count": 24,
   "metadata": {
    "ExecuteTime": {
     "end_time": "2017-09-11T13:33:23.979726Z",
     "start_time": "2017-09-11T13:33:23.684983Z"
    },
    "collapsed": true,
    "scrolled": true
   },
   "outputs": [],
   "source": [
    "%%cython\n",
    "import cython\n",
    "\n",
    "@cython.cdivision(True)\n",
    "def wallis5(int n):\n",
    "    cdef double out = 2.\n",
    "    cdef double tmp = 0.\n",
    "    cdef int i\n",
    "    for i in range(1, n):\n",
    "        tmp = 4. * (i * i)\n",
    "        out *= tmp / (tmp - 1.)\n",
    "    return out"
   ]
  },
  {
   "cell_type": "code",
   "execution_count": 38,
   "metadata": {
    "ExecuteTime": {
     "end_time": "2017-09-11T14:01:46.767011Z",
     "start_time": "2017-09-11T14:01:30.909439Z"
    }
   },
   "outputs": [
    {
     "name": "stdout",
     "output_type": "stream",
     "text": [
      "73.1 µs ± 2.77 µs per loop (mean ± std. dev. of 7 runs, 10000 loops each)\n",
      "12.3 µs ± 199 ns per loop (mean ± std. dev. of 7 runs, 100000 loops each)\n"
     ]
    }
   ],
   "source": [
    "%timeit wallis4(10000) #Best Vectorized with Numpy\n",
    "%timeit wallis5(10000) #raw loop but this Cython"
   ]
  },
  {
   "cell_type": "markdown",
   "metadata": {
    "collapsed": true
   },
   "source": [
    "Cython is more efficient than numpy for this problem.\n",
    "\n",
    "An important advantage of the cython implementation is its memory load!\n",
    "To have a quick chek at the memory load of a program, we can use `memory_profiler`."
   ]
  },
  {
   "cell_type": "code",
   "execution_count": 39,
   "metadata": {
    "ExecuteTime": {
     "end_time": "2017-09-11T14:01:46.810760Z",
     "start_time": "2017-09-11T14:01:46.781166Z"
    },
    "collapsed": true
   },
   "outputs": [],
   "source": [
    "%load_ext memory_profiler"
   ]
  },
  {
   "cell_type": "code",
   "execution_count": 41,
   "metadata": {
    "ExecuteTime": {
     "end_time": "2017-09-11T14:04:59.557588Z",
     "start_time": "2017-09-11T14:04:59.048163Z"
    },
    "scrolled": true
   },
   "outputs": [
    {
     "name": "stdout",
     "output_type": "stream",
     "text": [
      "peak memory: 229.36 MiB, increment: 15.02 MiB\n",
      "peak memory: 214.41 MiB, increment: 0.07 MiB\n"
     ]
    }
   ],
   "source": [
    "%memit wallis4(1000000) #Best Vectorized with Numpy\n",
    "%memit wallis5(1000000) #raw loop but this Cython"
   ]
  },
  {
   "cell_type": "markdown",
   "metadata": {},
   "source": [
    "Cython basically allows you to do most things you would want to do in C, and supports most functions of the standard library. \n",
    "\n",
    "## Numba\n",
    "\n",
    "Now, there is an incredible tool called Numba which is getting better and better, and aims at accelerating the code even more than Cython, without having these anoying variable declarations on top of the program. Using it is super easy: you take your naive approach, put @autojit on top and voilà."
   ]
  },
  {
   "cell_type": "code",
   "execution_count": 42,
   "metadata": {
    "ExecuteTime": {
     "end_time": "2017-09-11T14:06:19.024592Z",
     "start_time": "2017-09-11T14:06:02.343640Z"
    }
   },
   "outputs": [
    {
     "name": "stdout",
     "output_type": "stream",
     "text": [
      "75.4 µs ± 3.5 µs per loop (mean ± std. dev. of 7 runs, 10000 loops each)\n",
      "12.8 µs ± 994 ns per loop (mean ± std. dev. of 7 runs, 100000 loops each)\n"
     ]
    }
   ],
   "source": [
    "from numba import autojit\n",
    "\n",
    "\n",
    "@autojit\n",
    "def wallis6(n):\n",
    "    out = 2.\n",
    "    for i in range(1, n):\n",
    "        tmp = 4 * i**2\n",
    "        out *= tmp / (tmp - 1.)\n",
    "    return out\n",
    "\n",
    "%timeit wallis4(10000) #Best Vectorized with Numpy\n",
    "%timeit wallis6(10000) #raw loop in python but this Nummba decorator"
   ]
  },
  {
   "cell_type": "markdown",
   "metadata": {},
   "source": [
    "Now let us compare all those methods:"
   ]
  },
  {
   "cell_type": "code",
   "execution_count": 43,
   "metadata": {
    "ExecuteTime": {
     "end_time": "2017-09-11T14:11:24.179838Z",
     "start_time": "2017-09-11T14:06:26.911698Z"
    }
   },
   "outputs": [
    {
     "name": "stdout",
     "output_type": "stream",
     "text": [
      "Timing for Numpy 1 ...\n",
      "Timing for Numpy 2 ...\n",
      "Timing for Numpy 3 ...\n",
      "Timing for Cython ...\n",
      "Timing for Numba ...\n"
     ]
    },
    {
     "data": {
      "image/png": "[encoded data removed]",
      "text/plain": [
       "<matplotlib.figure.Figure at 0x7fcab2e59940>"
      ]
     },
     "metadata": {},
     "output_type": "display_data"
    }
   ],
   "source": [
    "%matplotlib inline\n",
    "import matplotlib.pyplot as plt\n",
    "import seaborn as sns; sns.set()\n",
    "sns.set_style(\"ticks\")\n",
    "sns.color_palette(\"colorblind\")\n",
    "\n",
    "functions = [wallis2, wallis3, wallis4, wallis5, wallis6]\n",
    "names = ['Numpy 1', 'Numpy 2', 'Numpy 3', 'Cython', 'Numba']\n",
    "n_list = np.logspace(1, 7, num=7, dtype=int)\n",
    "\n",
    "\n",
    "plt.figure()\n",
    "for function, name in zip(functions, names):\n",
    "    print('Timing for %s ...' % name)\n",
    "    times =[]\n",
    "    for n in n_list:\n",
    "        t = %timeit -oq function(n)\n",
    "        times.append(t.best)\n",
    "    plt.loglog(n_list, times, label=name)\n",
    "plt.xlabel('n')\n",
    "plt.ylabel('time (s)')\n",
    "plt.legend(loc='upper left')\n",
    "plt.show()"
   ]
  },
  {
   "cell_type": "markdown",
   "metadata": {},
   "source": [
    "The results are pretty clear, on this problem, Cython and Numba are the clear winners. Numba is also much easier to use but lacks some features of cython."
   ]
  },
  {
   "cell_type": "markdown",
   "metadata": {},
   "source": [
    "# Array processing\n",
    "\n",
    "The previous example made Numba really shine. The reality is sometimes subtler.\n",
    "\n",
    "Let us consider the simple case of computing the mean of a function of a signal $x(t)$ of length $T$. That is, we want to compute $\\frac{1}{T}\\sum_{t=1}^T f(x(t))$. Let us take for $f$ a slightly complicated function: $$f(x) = \\cos(e^{- \\rvert x \\lvert })$$\n"
   ]
  },
  {
   "cell_type": "markdown",
   "metadata": {},
   "source": [
    "### Numpy"
   ]
  },
  {
   "cell_type": "code",
   "execution_count": 44,
   "metadata": {
    "ExecuteTime": {
     "end_time": "2017-09-11T14:11:24.202453Z",
     "start_time": "2017-09-11T14:11:24.194486Z"
    },
    "collapsed": true
   },
   "outputs": [],
   "source": [
    "def function1(x):\n",
    "    \"\"\"Standard array processing with numpy\"\"\"\n",
    "    return np.mean(np.cos(np.exp(-np.abs(x))))\n",
    "\n",
    "def function2(x):\n",
    "    \"\"\"Slitly better array processing with numpy\"\"\"\n",
    "    tmp = -np.abs(x)\n",
    "    np.exp(tmp, out=tmp)\n",
    "    np.cos(tmp, out=tmp)\n",
    "    return np.mean(tmp)"
   ]
  },
  {
   "cell_type": "markdown",
   "metadata": {},
   "source": [
    "### Cython"
   ]
  },
  {
   "cell_type": "code",
   "execution_count": 45,
   "metadata": {
    "ExecuteTime": {
     "end_time": "2017-09-11T14:11:27.830919Z",
     "start_time": "2017-09-11T14:11:24.216111Z"
    },
    "collapsed": true,
    "scrolled": true
   },
   "outputs": [],
   "source": [
    "%%cython\n",
    "from libc.math cimport exp, cos\n",
    "\n",
    "def function3(double[:] x):\n",
    "    \"\"\"Array precessing with Cython\"\"\"\n",
    "    cdef double out = 0.\n",
    "    cdef int T = x.shape[0]\n",
    "    cdef int i\n",
    "    for i in range(T):\n",
    "        out += cos(exp(-abs(x[i])))\n",
    "    return out / float(T)\n"
   ]
  },
  {
   "cell_type": "markdown",
   "metadata": {},
   "source": [
    "### Numba"
   ]
  },
  {
   "cell_type": "code",
   "execution_count": 46,
   "metadata": {
    "ExecuteTime": {
     "end_time": "2017-09-11T14:11:27.849202Z",
     "start_time": "2017-09-11T14:11:27.842804Z"
    },
    "collapsed": true
   },
   "outputs": [],
   "source": [
    "@autojit(nopython=True)\n",
    "def function4(x):\n",
    "    \"\"\"Array precessing with numba\"\"\"\n",
    "    out = 0.\n",
    "    T = x.shape[0]\n",
    "    for i in range(x.shape[0]):\n",
    "        out += np.cos(np.exp(-np.abs(x[i])))\n",
    "    return out / float(T)"
   ]
  },
  {
   "cell_type": "markdown",
   "metadata": {},
   "source": [
    "### Numexpr\n",
    "\n",
    "Numexpr is a library that performs efficient expression evaluation. It is really great to compute complicated functions of large arrays."
   ]
  },
  {
   "cell_type": "code",
   "execution_count": 47,
   "metadata": {
    "ExecuteTime": {
     "end_time": "2017-09-11T14:11:28.010848Z",
     "start_time": "2017-09-11T14:11:27.865252Z"
    },
    "collapsed": true
   },
   "outputs": [],
   "source": [
    "import numexpr as ne\n",
    "\n",
    "def function5(x):\n",
    "    \"\"\"Array precossing using NumExpr\n",
    "       Using similar expression than numpy (see function1)\n",
    "       \"\"\"\n",
    "    tmp = ne.evaluate('cos(exp(-abs(x)))')\n",
    "    return np.mean(tmp)\n",
    "\n",
    "def function6(x):\n",
    "    return ne.evaluate('sum(cos(exp(-abs(x))))') / float(len(x))"
   ]
  },
  {
   "cell_type": "markdown",
   "metadata": {},
   "source": [
    "### Comparison"
   ]
  },
  {
   "cell_type": "code",
   "execution_count": 48,
   "metadata": {
    "ExecuteTime": {
     "end_time": "2017-09-11T14:18:15.933293Z",
     "start_time": "2017-09-11T14:11:28.032060Z"
    }
   },
   "outputs": [
    {
     "name": "stdout",
     "output_type": "stream",
     "text": [
      "Timing for Numpy ...\n",
      "Timing for Numpy2 ...\n",
      "Timing for Cython ...\n",
      "Timing for Numba ...\n",
      "Timing for Numexpr ...\n",
      "Timing for Numexpr2 ...\n"
     ]
    },
    {
     "data": {
      "image/png": "[encoded data removed]",
      "text/plain": [
       "<matplotlib.figure.Figure at 0x7fca6d7a0240>"
      ]
     },
     "metadata": {},
     "output_type": "display_data"
    }
   ],
   "source": [
    "functions = [function1, function2, function3, function4, function5, function6]\n",
    "names = ['Numpy', 'Numpy2', 'Cython', 'Numba', 'Numexpr', 'Numexpr2']\n",
    "T_list = np.logspace(1, 8, num=8, dtype=int)\n",
    "x_list = [np.random.randn(T) for T in T_list]\n",
    "\n",
    "plt.figure()\n",
    "for function, name in zip(functions, names):\n",
    "    print('Timing for %s ...' % name)\n",
    "    times = []\n",
    "    for x in x_list:\n",
    "        t = %timeit -oq function(x)\n",
    "        times.append(t.best)\n",
    "    plt.loglog(T_list, times, label=name)\n",
    "plt.xlabel('T')\n",
    "plt.ylabel('time (s)')\n",
    "plt.legend(loc='upper left')\n",
    "plt.show()"
   ]
  },
  {
   "cell_type": "markdown",
   "metadata": {},
   "source": [
    "Numexpr is generally the go to tool when it comes to large array processing."
   ]
  }
 ],
 "metadata": {
  "anaconda-cloud": {},
  "kernelspec": {
   "display_name": "Python 3",
   "language": "python",
   "name": "python3"
  },
  "language_info": {
   "codemirror_mode": {
    "name": "ipython",
    "version": 3
   },
   "file_extension": ".py",
   "mimetype": "text/x-python",
   "name": "python",
   "nbconvert_exporter": "python",
   "pygments_lexer": "ipython3",
   "version": "3.5.2"
  },
  "varInspector": {
   "cols": {
    "lenName": 16,
    "lenType": 16,
    "lenVar": 40
   },
   "kernels_config": {
    "python": {
     "delete_cmd_postfix": "",
     "delete_cmd_prefix": "del ",
     "library": "var_list.py",
     "varRefreshCmd": "print(var_dic_list())"
    },
    "r": {
     "delete_cmd_postfix": ") ",
     "delete_cmd_prefix": "rm(",
     "library": "var_list.r",
     "varRefreshCmd": "cat(var_dic_list()) "
    }
   },
   "types_to_exclude": [
    "module",
    "function",
    "builtin_function_or_method",
    "instance",
    "_Feature"
   ],
   "window_display": false
  }
 },
 "nbformat": 4,
 "nbformat_minor": 1
}

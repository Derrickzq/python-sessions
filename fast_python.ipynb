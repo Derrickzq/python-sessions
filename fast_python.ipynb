{
 "cells": [
  {
   "cell_type": "markdown",
   "metadata": {},
   "source": [
    "# Fast scientific code with Python"
   ]
  },
  {
   "cell_type": "markdown",
   "metadata": {},
   "source": [
    "\n",
    "Author: [Pierre Ablin](https://www.pierreablin.com). \n",
    "\n",
    "\n",
    "Based on an idea by [Alexandre Gramfort](http://alexandre.gramfort.net/).\n",
    "\n"
   ]
  },
  {
   "cell_type": "markdown",
   "metadata": {},
   "source": [
    "\n",
    "\n",
    "**Dependencies:**\n",
    "\n",
    "For this notebook, we will need numba, cython, and memory_profiler. numba evolves quickly, so the most recent version is the best. To install all those:\n",
    "\n",
    "` $ pip install ...`\n",
    "\n",
    "\n",
    "\n",
    "To get the latest versions, running anaconda:\n",
    "\n",
    "` $ conda update ...`\n",
    "\n",
    "\n",
    "\n",
    "\n",
    "\n",
    "Python is the go to langage when it comes to quickly translate an idea into code. It is very easy to write and read. The drawback is that most natural operations come with a lot of tests, conversion, etc... which renders scientific coding with the standard python library extremely slow. Luckily, there are a lot of tools and libraries to make Python code almost a fast as native fortran/C in most cases.\n",
    "\n",
    "Is Python truly slow? Not if well optimized. Take the scikit-learn library, which contains many machine learning algorithm. It is written in Python, yet it contains the fastest implementation available of several massively used algorithms.\n",
    "\n",
    "As a side note: a great way to produce a scientific code in Python is first to write a working algorithm that might be slow. The important part is that it works. Then, profile it (i.e. time each of its component, or check the memory load if thats a problem too) to see which part can be improved and which part does not really have to be changed. It sounds obvious, but it is almost always useless to try to optimize a function that only makes for 5% of the total timing of the algorithm.\n",
    "\n",
    "\n",
    "With that in mind, parts of the algorithms that are not critical can be left in beautiful and clean python code while the rest has to be optimized.\n",
    "\n"
   ]
  },
  {
   "cell_type": "markdown",
   "metadata": {},
   "source": [
    "Let us try to solve a simple problem. Condider the Wallis product $P_n = 2 \\prod_{i=1}^{n}\\frac{4i^2}{4i^2 - 1}$ which converges to $\\pi$. We are going to try to make its computation as fast as possible for large $n$.\n",
    "\n",
    "A very naive approach is the following:"
   ]
  },
  {
   "cell_type": "code",
   "execution_count": 1,
   "metadata": {
    "collapsed": false
   },
   "outputs": [
    {
     "data": {
      "text/plain": [
       "3.1415141108281714"
      ]
     },
     "execution_count": 1,
     "metadata": {},
     "output_type": "execute_result"
    }
   ],
   "source": [
    "def wallis1(n):\n",
    "    out = 1.\n",
    "    for i in range(1, n):\n",
    "        out *= float((4 * i ** 2)) / float((4 * i ** 2 - 1))\n",
    "    return 2. * out\n",
    "\n",
    "wallis1(10000)"
   ]
  },
  {
   "cell_type": "markdown",
   "metadata": {},
   "source": [
    "## Vectorize\n",
    "The previous method is slow, because of the loop. The operations carried inside the loop are extremely slow and repeated many times.\n",
    "The most natural way to overcome this problem in python is to vectorize using numpy."
   ]
  },
  {
   "cell_type": "code",
   "execution_count": 2,
   "metadata": {
    "collapsed": false
   },
   "outputs": [
    {
     "name": "stdout",
     "output_type": "stream",
     "text": [
      "100 loops, best of 3: 3.79 ms per loop\n",
      "The slowest run took 4.30 times longer than the fastest. This could mean that an intermediate result is being cached.\n",
      "10000 loops, best of 3: 81 µs per loop\n"
     ]
    }
   ],
   "source": [
    "import numpy as np\n",
    "\n",
    "def wallis2(n):\n",
    "    int_list = np.arange(1, n)\n",
    "    return 2 * np.prod( 4 * int_list ** 2 / (4 * int_list ** 2 - 1.))\n",
    "\n",
    "\n",
    "%timeit wallis1(10000)\n",
    "%timeit wallis2(10000)"
   ]
  },
  {
   "cell_type": "markdown",
   "metadata": {},
   "source": [
    "We can see that this code is orders of magnitude faster than the previous one. Vectorizing is extremely important in scientific computing as vectors/matrices/tensors are by far the most common data structure encountered. Consequently, some very efficient libraries exist to work with vectors. This explains why numpy is at the core of scientific computing."
   ]
  },
  {
   "cell_type": "markdown",
   "metadata": {},
   "source": [
    "Now, we can make this code faster by avoiding useless computations. Indeed, the product `4 * int_list ** 2` only has to be computed once."
   ]
  },
  {
   "cell_type": "code",
   "execution_count": 3,
   "metadata": {
    "collapsed": false
   },
   "outputs": [
    {
     "name": "stdout",
     "output_type": "stream",
     "text": [
      "10000 loops, best of 3: 77.9 µs per loop\n",
      "10000 loops, best of 3: 64.7 µs per loop\n"
     ]
    }
   ],
   "source": [
    "def wallis3(n):\n",
    "    tmp = 4 * np.arange(1, n) ** 2\n",
    "    return 2 * np.prod( tmp / (tmp - 1.))\n",
    "\n",
    "%timeit wallis2(10000)\n",
    "%timeit wallis3(10000)"
   ]
  },
  {
   "cell_type": "markdown",
   "metadata": {},
   "source": [
    "Another gain factor comes from the useless memory copies performed in the above call. Once `int_list` is computed, there is no need to keep it in memory. Further, when doing `tmp = 4 * int_list ** 2`, numpy takes int_list, creates an intermediate copy, then squares it. Then it takes that copy, and multiplies it by 4. These copies are unecessary. The way to efficiently manage memory and avoid unecessary copies is to use `+=`, `-=`, etc... You should also avoid as much as possible type conversion."
   ]
  },
  {
   "cell_type": "code",
   "execution_count": 4,
   "metadata": {
    "collapsed": false
   },
   "outputs": [
    {
     "name": "stdout",
     "output_type": "stream",
     "text": [
      "10000 loops, best of 3: 68.7 µs per loop\n",
      "10000 loops, best of 3: 42 µs per loop\n"
     ]
    }
   ],
   "source": [
    "def wallis4(n):\n",
    "    tmp = np.arange(1, n, dtype=float)\n",
    "    tmp *= tmp  # Legend has it that it is the fastest way to square\n",
    "    tmp *= 4.\n",
    "    tmp /= tmp - 1.\n",
    "    return 2. * np.prod(tmp)\n",
    "\n",
    "%timeit wallis3(10000)\n",
    "%timeit wallis4(10000)"
   ]
  },
  {
   "cell_type": "markdown",
   "metadata": {},
   "source": [
    "We have gained a little bit (a factor two compared to the naive numpy version). "
   ]
  },
  {
   "cell_type": "markdown",
   "metadata": {},
   "source": [
    "## Cython\n",
    "\n",
    "Now, it is not always the case that operations can be vectorized as easily. Sometimes you just cannot avoid the loops. We can use Cython to write code that is going to be compiled in C."
   ]
  },
  {
   "cell_type": "code",
   "execution_count": 2,
   "metadata": {
    "collapsed": false
   },
   "outputs": [],
   "source": [
    "%load_ext cython"
   ]
  },
  {
   "cell_type": "markdown",
   "metadata": {},
   "source": [
    "In cython, you have to type and define each variable that you are going to use beforehand, which is going to render our code a bit less readable. If cython does not understand an instruction, it will fall back to a python instruction, which might render everything incredibly slow. To debug, you can use the command --annotate which will hilight the lines which interact wit python (yellow inside of a loop means slow)."
   ]
  },
  {
   "cell_type": "code",
   "execution_count": 3,
   "metadata": {
    "collapsed": false,
    "scrolled": true
   },
   "outputs": [],
   "source": [
    "%%cython\n",
    "import cython\n",
    "\n",
    "@cython.cdivision(True)\n",
    "def wallis5(int n):\n",
    "    cdef double out = 2.\n",
    "    cdef double tmp\n",
    "    cdef int i\n",
    "    for i in range(1, n):\n",
    "        tmp = 4. * (i * i)\n",
    "        out *= tmp / (tmp - 1.)\n",
    "    return out"
   ]
  },
  {
   "cell_type": "code",
   "execution_count": 7,
   "metadata": {
    "collapsed": false
   },
   "outputs": [
    {
     "name": "stdout",
     "output_type": "stream",
     "text": [
      "10000 loops, best of 3: 41 µs per loop\n",
      "100000 loops, best of 3: 12.1 µs per loop\n"
     ]
    }
   ],
   "source": [
    "%timeit wallis4(10000)\n",
    "%timeit wallis5(10000)"
   ]
  },
  {
   "cell_type": "markdown",
   "metadata": {
    "collapsed": true
   },
   "source": [
    "Cython is more efficient than numpy for this problem.\n",
    "\n",
    "An important advantage of the cython implementation is its memory load!\n",
    "To have a quick chek at the memory load of a program, we can use `memory_profiler`."
   ]
  },
  {
   "cell_type": "code",
   "execution_count": 8,
   "metadata": {
    "collapsed": false
   },
   "outputs": [],
   "source": [
    "%load_ext memory_profiler"
   ]
  },
  {
   "cell_type": "code",
   "execution_count": 9,
   "metadata": {
    "collapsed": false,
    "scrolled": true
   },
   "outputs": [
    {
     "name": "stdout",
     "output_type": "stream",
     "text": [
      "peak memory: 75.03 MiB, increment: 7.74 MiB\n",
      "peak memory: 67.38 MiB, increment: 0.00 MiB\n"
     ]
    }
   ],
   "source": [
    "%memit wallis4(1000000)\n",
    "%memit wallis5(1000000)"
   ]
  },
  {
   "cell_type": "markdown",
   "metadata": {},
   "source": [
    "Cython basically allows you to do most things you would want to do in C, and supports most functions of the standard library. \n",
    "\n",
    "## Numba\n",
    "\n",
    "Now, there is an incredible tool called Numba which is getting better and better, and aims at accelerating the code even more than Cython, without having these anoying variable declarations on top of the program. Using it is super easy: you take your naive approach, put @autojit on top and voilà."
   ]
  },
  {
   "cell_type": "code",
   "execution_count": 10,
   "metadata": {
    "collapsed": false
   },
   "outputs": [
    {
     "name": "stdout",
     "output_type": "stream",
     "text": [
      "10000 loops, best of 3: 41.3 µs per loop\n",
      "The slowest run took 7326.45 times longer than the fastest. This could mean that an intermediate result is being cached.\n",
      "100000 loops, best of 3: 12.3 µs per loop\n"
     ]
    }
   ],
   "source": [
    "from numba import autojit\n",
    "\n",
    "\n",
    "@autojit\n",
    "def wallis6(n):\n",
    "    out = 2.\n",
    "    for i in range(1, n):\n",
    "        tmp = 4 * i**2\n",
    "        out *= tmp / (tmp - 1.)\n",
    "    return out\n",
    "\n",
    "%timeit wallis4(10000)\n",
    "%timeit wallis6(10000)"
   ]
  },
  {
   "cell_type": "markdown",
   "metadata": {},
   "source": [
    "Now let us compare all those methods:"
   ]
  },
  {
   "cell_type": "code",
   "execution_count": 11,
   "metadata": {
    "collapsed": false
   },
   "outputs": [
    {
     "name": "stdout",
     "output_type": "stream",
     "text": [
      "Timing for Numpy 1 ...\n",
      "Timing for Numpy 2 ...\n",
      "Timing for Numpy 3 ...\n",
      "Timing for Cython ...\n",
      "Timing for Numba ...\n"
     ]
    },
    {
     "data": {
      "image/png": "[encoded data removed]",
      "text/plain": [
       "<matplotlib.figure.Figure at 0x8538f60>"
      ]
     },
     "metadata": {},
     "output_type": "display_data"
    }
   ],
   "source": [
    "%matplotlib inline\n",
    "import matplotlib.pyplot as plt\n",
    "import seaborn; seaborn.set()\n",
    "\n",
    "functions = [wallis2, wallis3, wallis4, wallis5, wallis6]\n",
    "names = ['Numpy 1', 'Numpy 2', 'Numpy 3', 'Cython', 'Numba']\n",
    "n_list = np.logspace(1, 7, num=7, dtype=int)\n",
    "\n",
    "\n",
    "plt.figure()\n",
    "for function, name in zip(functions, names):\n",
    "    print('Timing for %s ...' % name)\n",
    "    times =[]\n",
    "    for n in n_list:\n",
    "        t = %timeit -oq function(n)\n",
    "        times.append(t.best)\n",
    "    plt.loglog(n_list, times, label=name)\n",
    "plt.xlabel('n')\n",
    "plt.ylabel('time (s)')\n",
    "plt.legend(loc='upper left')\n",
    "plt.show()"
   ]
  },
  {
   "cell_type": "markdown",
   "metadata": {},
   "source": [
    "The results are pretty clear, on this problem, Cython and Numba are the clear winners. Numba is also much easier to use but lacks some features of cython."
   ]
  },
  {
   "cell_type": "markdown",
   "metadata": {},
   "source": [
    "# Array processing\n",
    "\n",
    "The previous example made Numba really shine. The reality is sometimes subtler.\n",
    "\n",
    "Let us consider the simple case of computing the mean of a function of a signal $x(t)$ of length $T$. That is, we want to compute $\\frac{1}{T}\\sum_{t=1}^T f(x(t))$. Let us take for $f$ a slightly complicated function: $$f(x) = \\cos(e^{- \\rvert x \\lvert })$$\n"
   ]
  },
  {
   "cell_type": "markdown",
   "metadata": {},
   "source": [
    "### Numpy"
   ]
  },
  {
   "cell_type": "code",
   "execution_count": 12,
   "metadata": {
    "collapsed": false
   },
   "outputs": [],
   "source": [
    "def function1(x):\n",
    "    return np.mean(np.cos(np.exp(-np.abs(x))))\n",
    "\n",
    "def function2(x):\n",
    "    tmp = -np.abs(x)\n",
    "    np.exp(tmp, out=tmp)\n",
    "    np.cos(tmp, out=tmp)\n",
    "    return np.mean(tmp)"
   ]
  },
  {
   "cell_type": "markdown",
   "metadata": {},
   "source": [
    "### Cython"
   ]
  },
  {
   "cell_type": "code",
   "execution_count": 4,
   "metadata": {
    "collapsed": false,
    "scrolled": true
   },
   "outputs": [],
   "source": [
    "%%cython\n",
    "from libc.math cimport exp, cos\n",
    "\n",
    "def function3(double[:] x):\n",
    "    cdef double out = 0.\n",
    "    cdef int T = x.shape[0]\n",
    "    cdef int i\n",
    "    for i in range(T):\n",
    "        out += cos(exp(-abs(x[i])))\n",
    "    return out / float(T)\n"
   ]
  },
  {
   "cell_type": "markdown",
   "metadata": {},
   "source": [
    "### Numba"
   ]
  },
  {
   "cell_type": "code",
   "execution_count": 14,
   "metadata": {
    "collapsed": false
   },
   "outputs": [],
   "source": [
    "@autojit(nopython=True)\n",
    "def function4(x):\n",
    "    out = 0.\n",
    "    T = x.shape[0]\n",
    "    for i in range(x.shape[0]):\n",
    "        out += np.cos(np.exp(-np.abs(x[i])))\n",
    "    return out / float(T)"
   ]
  },
  {
   "cell_type": "markdown",
   "metadata": {},
   "source": [
    "### Numexpr\n",
    "\n",
    "Numexpr is a library that performs efficient expression evaluation. It is really great to compute complicated functions of large arrays."
   ]
  },
  {
   "cell_type": "code",
   "execution_count": 15,
   "metadata": {
    "collapsed": false
   },
   "outputs": [],
   "source": [
    "import numexpr as ne\n",
    "\n",
    "def function5(x):\n",
    "    tmp = ne.evaluate('cos(exp(-abs(x)))')\n",
    "    return np.mean(tmp)\n",
    "\n",
    "def function6(x):\n",
    "    return ne.evaluate('sum(cos(exp(-abs(x))))') / float(len(x))"
   ]
  },
  {
   "cell_type": "markdown",
   "metadata": {},
   "source": [
    "### Comparison"
   ]
  },
  {
   "cell_type": "code",
   "execution_count": 16,
   "metadata": {
    "collapsed": false
   },
   "outputs": [
    {
     "name": "stdout",
     "output_type": "stream",
     "text": [
      "Timing for Numpy ...\n",
      "Timing for Numpy2 ...\n",
      "Timing for Cython ...\n",
      "Timing for Numba ...\n",
      "Timing for Numexpr ...\n",
      "Timing for Numexpr2 ...\n"
     ]
    },
    {
     "data": {
      "image/png": "[encoded data removed]",
      "text/plain": [
       "<matplotlib.figure.Figure at 0x75a8ba8>"
      ]
     },
     "metadata": {},
     "output_type": "display_data"
    }
   ],
   "source": [
    "functions = [function1, function2, function3, function4, function5, function6]\n",
    "names = ['Numpy', 'Numpy2', 'Cython', 'Numba', 'Numexpr', 'Numexpr2']\n",
    "T_list = np.logspace(1, 8, num=8, dtype=int)\n",
    "x_list = [np.random.randn(T) for T in T_list]\n",
    "\n",
    "plt.figure()\n",
    "for function, name in zip(functions, names):\n",
    "    print('Timing for %s ...' % name)\n",
    "    times = []\n",
    "    for x in x_list:\n",
    "        t = %timeit -oq function(x)\n",
    "        times.append(t.best)\n",
    "    plt.loglog(T_list, times, label=name)\n",
    "plt.xlabel('T')\n",
    "plt.ylabel('time (s)')\n",
    "plt.legend(loc='upper left')\n",
    "plt.show()"
   ]
  },
  {
   "cell_type": "markdown",
   "metadata": {},
   "source": [
    "Numexpr is generally the go to tool when it comes to large array processing."
   ]
  }
 ],
 "metadata": {
  "anaconda-cloud": {},
  "kernelspec": {
   "display_name": "Python [conda root]",
   "language": "python",
   "name": "conda-root-py"
  },
  "language_info": {
   "codemirror_mode": {
    "name": "ipython",
    "version": 2
   },
   "file_extension": ".py",
   "mimetype": "text/x-python",
   "name": "python",
   "nbconvert_exporter": "python",
   "pygments_lexer": "ipython2",
   "version": "2.7.12"
  }
 },
 "nbformat": 4,
 "nbformat_minor": 1
}
